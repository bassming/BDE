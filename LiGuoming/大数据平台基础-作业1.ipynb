{
 "cells": [
  {
   "cell_type": "code",
   "execution_count": 2,
   "metadata": {},
   "outputs": [],
   "source": [
    "import multiprocessing\n",
    "import time"
   ]
  },
  {
   "cell_type": "code",
   "execution_count": 3,
   "metadata": {},
   "outputs": [],
   "source": [
    "# 定义任务函数，等待1秒，然后将输入平方\n",
    "def f(x):\n",
    "    time.sleep(1)\n",
    "    return x**2"
   ]
  },
  {
   "cell_type": "code",
   "execution_count": null,
   "metadata": {},
   "outputs": [
    {
     "name": "stdout",
     "output_type": "stream",
     "text": [
      "单进程的输出为： [1, 4, 9, 16, 25, 36, 49, 64, 81, 100]\n",
      "单进程的耗时为： 10.077897310256958\n"
     ]
    }
   ],
   "source": [
    "#需要在命令行运行 ！！\n",
    "if __name__ == '__main__':\n",
    "    start = time.time()\n",
    "    print(\"单进程的输出为：\", list(map(f, [1,2,3,4,5,6,7,8,9,10])))\n",
    "    print(\"单进程的耗时为：\", time.time() - start)  #耗时10.09秒\n",
    "    \n",
    "    print('\\n')\n",
    "    \n",
    "    pool = multiprocessing.Pool(5)  #创建有5个进程的进程池\n",
    "    start = time.time()\n",
    "    print(\"多进程的输出为：\", list(pool.map(f, [1,2,3,4,5,6,7,8,9,10])))\n",
    "    pool.close()\n",
    "    pool.join()\n",
    "    print(\"多进程的耗时为：\", time.time() - start)  #耗时2.24秒"
   ]
  }
 ],
 "metadata": {
  "kernelspec": {
   "display_name": "Python 3",
   "language": "python",
   "name": "python3"
  },
  "language_info": {
   "codemirror_mode": {
    "name": "ipython",
    "version": 3
   },
   "file_extension": ".py",
   "mimetype": "text/x-python",
   "name": "python",
   "nbconvert_exporter": "python",
   "pygments_lexer": "ipython3",
   "version": "3.7.0"
  }
 },
 "nbformat": 4,
 "nbformat_minor": 2
}
